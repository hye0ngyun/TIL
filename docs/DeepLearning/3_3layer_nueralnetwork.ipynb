{
  "nbformat": 4,
  "nbformat_minor": 0,
  "metadata": {
    "colab": {
      "name": "3. 3층 신경망",
      "provenance": [],
      "authorship_tag": "ABX9TyN+wMyEYVzlO0V1HKuM5vvV",
      "include_colab_link": true
    },
    "kernelspec": {
      "name": "python3",
      "display_name": "Python 3"
    },
    "language_info": {
      "name": "python"
    }
  },
  "cells": [
    {
      "cell_type": "markdown",
      "metadata": {
        "id": "view-in-github",
        "colab_type": "text"
      },
      "source": [
        "<a href=\"https://colab.research.google.com/github/hye0ngyun/TIL/blob/main/3_3%EC%B8%B5_%EC%8B%A0%EA%B2%BD%EB%A7%9D.ipynb\" target=\"_parent\"><img src=\"https://colab.research.google.com/assets/colab-badge.svg\" alt=\"Open In Colab\"/></a>"
      ]
    },
    {
      "cell_type": "markdown",
      "metadata": {
        "id": "upIFveHdXrAT"
      },
      "source": [
        "각 층마다 사용할 활성화함수 정의"
      ]
    },
    {
      "cell_type": "code",
      "metadata": {
        "id": "oc_MedRKX90a"
      },
      "source": [
        "import numpy as np\n",
        "# 회귀를 위한 활성화 함수\n",
        "def sigmoid(x):\n",
        "  return 1 / (1 + np.exp(-x))\n",
        "\n",
        "# 항등함수: 입력을 그대로 출력하는 함수\n",
        "# 출력층에 사용할 함수\n",
        "def identify_function(x):\n",
        "  return x\n"
      ],
      "execution_count": null,
      "outputs": []
    },
    {
      "cell_type": "markdown",
      "metadata": {
        "id": "vfP9-ISvYG72"
      },
      "source": [
        "# 입력층(0) - 은닉층(1)"
      ]
    },
    {
      "cell_type": "code",
      "metadata": {
        "colab": {
          "base_uri": "https://localhost:8080/"
        },
        "id": "UjR5fE5HYA9g",
        "outputId": "860daae9-b4e6-4d27-8702-be165ae9d87b"
      },
      "source": [
        "# 입력층(0)의 값\n",
        "# 즉, 은닉층(1)으로 전달될 값\n",
        "X = np.array([1.0, 0.5])\n",
        "# 입력층(0)에서 은닉층(1)로 가는 가중치\n",
        "W1 = np.array([[0.1, 0.3, 0.5], [0.2, 0.4, 0.6]])\n",
        "# 입력층(0)에서 은닉층(1)로 가는 편향\n",
        "B1 = np.array([0.1, 0.2, 0.3])\n",
        "\n",
        "print(X.shape)\n",
        "print(W1.shape)\n",
        "print(B1.shape)\n",
        "\n",
        "# 은닉층(1)에 전달된 값\n",
        "A1 = np.dot(X, W1) + B1\n",
        "print(A1)\n",
        "\n",
        "# 은닉층(1)에 활성화함수를 사용한 값\n",
        "# 즉, 은닉층(2)으로 전달될 값\n",
        "Z1 = sigmoid(A1)\n",
        "print(Z1)"
      ],
      "execution_count": null,
      "outputs": [
        {
          "output_type": "stream",
          "text": [
            "(2,)\n",
            "(2, 3)\n",
            "(3,)\n",
            "[0.3 0.7 1.1]\n",
            "[0.57444252 0.66818777 0.75026011]\n"
          ],
          "name": "stdout"
        }
      ]
    },
    {
      "cell_type": "markdown",
      "metadata": {
        "id": "3ohpthFHYlsT"
      },
      "source": [
        "# 은닉층(1) - 은닉층(2)"
      ]
    },
    {
      "cell_type": "code",
      "metadata": {
        "colab": {
          "base_uri": "https://localhost:8080/"
        },
        "id": "qoKoiIurZgIf",
        "outputId": "36abe3e8-16b8-443b-dcc2-a2875081909e"
      },
      "source": [
        "# 은닉층(1)에서 은닉층(2)로 가는 가중치\n",
        "W2 = np.array([[0.1, 0.4], [0.2, 0.5], [0.3, 0.6]])\n",
        "# 은닉층(1)에서 은닉층(2)로 가는 편향\n",
        "B2 = np.array([0.1, 0.2])\n",
        "\n",
        "print(Z1.shape)\n",
        "print(W2.shape)\n",
        "print(B2.shape)\n",
        "\n",
        "# 은닉층(2)에 전달된 값\n",
        "A2 = np.dot(Z1, W2) + B2\n",
        "print(A2)\n",
        "\n",
        "# 은닉층(2)에 활성화함수를 사용한 값\n",
        "# 즉, 출력층(3)에 전달될 값\n",
        "Z2 = sigmoid(A2)\n",
        "print(Z2)"
      ],
      "execution_count": null,
      "outputs": [
        {
          "output_type": "stream",
          "text": [
            "(3,)\n",
            "(3, 2)\n",
            "(2,)\n",
            "[0.51615984 1.21402696]\n",
            "[0.62624937 0.7710107 ]\n"
          ],
          "name": "stdout"
        }
      ]
    },
    {
      "cell_type": "markdown",
      "metadata": {
        "id": "QMzYsiQbZwiD"
      },
      "source": [
        "# 은닉층(2) - 출력층(3)"
      ]
    },
    {
      "cell_type": "code",
      "metadata": {
        "colab": {
          "base_uri": "https://localhost:8080/"
        },
        "id": "wY1e4WR8a3dn",
        "outputId": "7333e8bc-3ed2-4e6b-bc95-1369b1d6fffa"
      },
      "source": [
        "# 은닉층(2)에서 출력층(3)으로 가는 가중치\n",
        "W3 = np.array([[0.1, 0.3], [0.2, 0.4]])\n",
        "# 은닉층(2)에서 출력층(3)으로 가는 편향\n",
        "B3 = np.array([0.1, 0.2])\n",
        "\n",
        "# 출력층(3)에 전달된 값\n",
        "A3 = np.dot(Z2, W3) + B3\n",
        "print(A3)\n",
        "\n",
        "# 출력층(3)에 활성화함수를 사용한 값\n",
        "# 즉, 출력될 값\n",
        "Y = identify_function(A3)\n",
        "print(Z3)"
      ],
      "execution_count": null,
      "outputs": [
        {
          "output_type": "stream",
          "text": [
            "[0.31682708 0.69627909]\n",
            "[0.31682708 0.69627909]\n"
          ],
          "name": "stdout"
        }
      ]
    },
    {
      "cell_type": "code",
      "metadata": {
        "colab": {
          "base_uri": "https://localhost:8080/"
        },
        "id": "Ql6WndhqcczT",
        "outputId": "3348bfb1-d04e-47da-980d-f9567891b535"
      },
      "source": [
        "def init_network():\n",
        "  network = {}\n",
        "  network['W1'] = np.array([[0.1, 0.3, 0.5], [0.2, 0.4, 0.6]])\n",
        "  network['B1'] = np.array([0.1, 0.2, 0.3])\n",
        "  network['W2'] = np.array([[0.1, 0.4], [0.2, 0.5], [0.3, 0.6]])\n",
        "  network['B2'] = np.array([0.1, 0.2])\n",
        "  network['W3'] = np.array([[0.1, 0.3], [0.2, 0.4]])\n",
        "  network['B3'] = np.array([0.1, 0.2])\n",
        "\n",
        "  return network\n",
        "\n",
        "# 신경망, 입력값\n",
        "def forward(network, x):\n",
        "  W1, W2, W3 = network['W1'], network['W2'], network['W3']\n",
        "  B1, B2, B3 = network['B1'], network['B2'], network['B3']\n",
        "\n",
        "  A1 = np.dot(x, W1) + B1\n",
        "  Z1 = sigmoid(A1)\n",
        "\n",
        "  A2 = np.dot(Z1, W2) + B2\n",
        "  Z2 = sigmoid(A2)\n",
        "\n",
        "  A3 = np.dot(Z2, W3) + B3\n",
        "  Y = identify_function(A3)\n",
        "  \n",
        "  return Y\n",
        "\n",
        "network = init_network()\n",
        "x = np.array([1.0, 0.5])\n",
        "y = forward(network, x)\n",
        "print(y)"
      ],
      "execution_count": null,
      "outputs": [
        {
          "output_type": "stream",
          "text": [
            "[0.31682708 0.69627909]\n"
          ],
          "name": "stdout"
        }
      ]
    },
    {
      "cell_type": "markdown",
      "metadata": {
        "id": "Ifd3gSn9bk2S"
      },
      "source": [
        "- 출력층의 활성화 함수는 **풀고자 하는 문제**의 성질에 맞게 정한다.\n",
        "- **회귀**에는 **항등 함수**\n",
        "- **2클래스 분류**에는 **시그모이드 함수**\n",
        "- **다중 클래스 분류**에는 **소프트맥스 함수**"
      ]
    }
  ]
}