{
  "nbformat": 4,
  "nbformat_minor": 0,
  "metadata": {
    "colab": {
      "name": "2. 신경망 - 활성화함수",
      "provenance": [],
      "collapsed_sections": [],
      "authorship_tag": "ABX9TyPuV/wtURuqPfWfNUU4hivj",
      "include_colab_link": true
    },
    "kernelspec": {
      "name": "python3",
      "display_name": "Python 3"
    },
    "language_info": {
      "name": "python"
    }
  },
  "cells": [
    {
      "cell_type": "markdown",
      "metadata": {
        "id": "view-in-github",
        "colab_type": "text"
      },
      "source": [
        "<a href=\"https://colab.research.google.com/github/hye0ngyun/TIL/blob/main/2_%EC%8B%A0%EA%B2%BD%EB%A7%9D_%ED%99%9C%EC%84%B1%ED%99%94%ED%95%A8%EC%88%98.ipynb\" target=\"_parent\"><img src=\"https://colab.research.google.com/assets/colab-badge.svg\" alt=\"Open In Colab\"/></a>"
      ]
    },
    {
      "cell_type": "markdown",
      "metadata": {
        "id": "-FDQ64S8zDLe"
      },
      "source": [
        "# 신경망\n",
        "![neural network](https://miro.medium.com/max/440/0*Cq09Qw6Rhouay8Bg.png)  \n",
        "\n",
        "- 신경망은 실제로 뉴런이 연결되는 방식은 퍼셉트론과 다를 것이 없다.\n",
        "- 퍼셉트론과 신경망이 다른 점은 층수와 활성화 함수에서 차이가 난다.\n",
        "  - **단순 퍼셉트론**은 단층 네트워크에서 **계단 함수**(임계값을 경계로 출력이 바뀌는 함수)를 활성화 함수로 사용한 모델이다.\n",
        "  - **신경망**은 여러 층으로 구성되고 **시그모이드 함수** 등의 매끈한 활성화 함수를 사용하는 네트워크이고 **다층 퍼셉트론**이라고 합니다.  \n",
        "\n"
      ]
    },
    {
      "cell_type": "markdown",
      "metadata": {
        "id": "KuanYvp91Ef7"
      },
      "source": [
        "## 활성화 함수\n",
        "- 인공 신경망의 퍼셉트론을 **유닛, 노드, 뉴런**이라고 표현\n",
        "  - 어떤 입력($x$)가 유닛, 노드, 뉴런으로 입력되 면 각각의 출력을 낸다.\n",
        "- **퍼셉트론**이란 뉴런은 결과물로써 0과 1을 낸다.\n",
        "  - $z=w_1x_1+w_2x_2+b$의 결과를 0과 1로 낸다.\n",
        "- 활성화 함수란?\n",
        "  - $WX+b$의 결과물을 결정하기 위한 함수"
      ]
    },
    {
      "cell_type": "markdown",
      "metadata": {
        "id": "1usdAN8g1GbL"
      },
      "source": [
        "### 계단 함수\n",
        "- $\n",
        "y = h(b + w_1x_1 + w_1x_2)\n",
        "$\n",
        "- $\n",
        "h(x) = \\begin{cases}\n",
        "0\\enspace(x \\leq 0)\n",
        "\\\\ 1\\enspace(x > 0)\n",
        "\\end{cases}\n",
        "$"
      ]
    },
    {
      "cell_type": "code",
      "metadata": {
        "id": "U1VQf_FT1Ig4"
      },
      "source": [
        "# \n",
        "def step_function(x):\n",
        "  if x > 0:\n",
        "    return 1\n",
        "  else:\n",
        "    return 0"
      ],
      "execution_count": 1,
      "outputs": []
    },
    {
      "cell_type": "code",
      "metadata": {
        "id": "SOvLtOva76ra"
      },
      "source": [
        "def step_function(x):\n",
        "  y = x > 0\n",
        "  return y.astype(np.int)"
      ],
      "execution_count": 2,
      "outputs": []
    },
    {
      "cell_type": "code",
      "metadata": {
        "colab": {
          "base_uri": "https://localhost:8080/",
          "height": 281
        },
        "id": "BHGrgrQ94sGY",
        "outputId": "1b7679fe-8e60-4911-d789-e9c12f63ece3"
      },
      "source": [
        "import numpy as np\n",
        "import matplotlib.pyplot as plt\n",
        "\n",
        "x = np.arange(-5.0, 5.0, 0.1)\n",
        "y = step_function(x)\n",
        "plt.title('step function')\n",
        "plt.plot(x, y)\n",
        "plt.ylim(-0.1, 1.1)\n",
        "plt.show()"
      ],
      "execution_count": 3,
      "outputs": [
        {
          "output_type": "display_data",
          "data": {
            "image/png": "[encoded data removed]",
            "text/plain": [
              "<Figure size 432x288 with 1 Axes>"
            ]
          },
          "metadata": {
            "needs_background": "light"
          }
        }
      ]
    },
    {
      "cell_type": "markdown",
      "metadata": {
        "id": "RJZbH9xs8RH8"
      },
      "source": [
        "### 시그모이드\n",
        "- 어떤 값이 들어오던지 **0과 1사이의 값**이 출력된다.\n",
        "- 시그모이드 함수는 **이 만큼 강하게 활성화가 된다(1에 가까운 실수)**, **이 만큼 약하게 활성화가 된다(0에 가까운 실수)**라고 확인할 수 있다.\n",
        "- 출력 과정( 신경망의 결정에서의 의미 )에서는 0 또는 1이 될 **확률**을 의미한다. - 출력층 에서의 시그모이드\n",
        "  - 0.5를 기준으로 0.5보다 작으면 0으로 분류될 확률이 크다.\n",
        "  - 0.5를 기준으로 0.5보다 크면 1로 분류될 확률이 크다.\n",
        "  - **1로 분류될 확률이 시그모이드의 결과**\n",
        "    - 예시 : $\\sigma(z)=0.4$라면?\n",
        "      - 1로 분류될 확률이 40%\n",
        "      - 0으로 분류될 확률이 60%\n",
        "- $\n",
        "\\sigma(z) =  \\frac{\\mathrm{1} }{\\mathrm{1} + e^{-z} }\n",
        "$, $z=WX+b$"
      ]
    },
    {
      "cell_type": "code",
      "metadata": {
        "id": "44p4WOjXA0dD"
      },
      "source": [
        "def sigmoid(x):\n",
        "  return 1 / (1 + np.exp(-x))"
      ],
      "execution_count": 4,
      "outputs": []
    },
    {
      "cell_type": "code",
      "metadata": {
        "colab": {
          "base_uri": "https://localhost:8080/",
          "height": 281
        },
        "id": "YTxL87ogBErV",
        "outputId": "2fe9e633-f485-4314-f835-0370fb79e812"
      },
      "source": [
        "import numpy as np\n",
        "import matplotlib.pyplot as plt\n",
        "\n",
        "x = np.arange(-5.0, 5.0, 0.1)\n",
        "y = sigmoid(x)\n",
        "plt.title('sigmoid function')\n",
        "plt.plot(x, y)\n",
        "plt.ylim(-0.1, 1.1)\n",
        "plt.show()"
      ],
      "execution_count": 5,
      "outputs": [
        {
          "output_type": "display_data",
          "data": {
            "image/png": "[encoded data removed]",
            "text/plain": [
              "<Figure size 432x288 with 1 Axes>"
            ]
          },
          "metadata": {
            "needs_background": "light"
          }
        }
      ]
    },
    {
      "cell_type": "markdown",
      "metadata": {
        "id": "YSE1pe2WBG2W"
      },
      "source": [
        "### RELU\n",
        "- 이미지 처리에 주로 사용\n",
        "  - 요즘은 다양한 분야에서 활용되는중\n",
        "- CNN과 자주 사용되는 함수\n",
        "- 입력값이 0을 넘으면 그대로 출력, 0이하면 0을 출력\n",
        "- $a(x) = \\begin{cases} \n",
        "0\\enspace(x \\leq 0)\n",
        "\\\\ x\\enspace(x > 0) \\end{cases}$\n"
      ]
    },
    {
      "cell_type": "code",
      "metadata": {
        "id": "m5t7K4fjBKvQ"
      },
      "source": [
        "def RELU(x):\n",
        "  return np.maximum(0, x)"
      ],
      "execution_count": 6,
      "outputs": []
    },
    {
      "cell_type": "code",
      "metadata": {
        "colab": {
          "base_uri": "https://localhost:8080/",
          "height": 281
        },
        "id": "fG9v0LAhBPlu",
        "outputId": "8a679fd8-3a51-4e04-90aa-82f57af12636"
      },
      "source": [
        "import numpy as np\n",
        "import matplotlib.pyplot as plt\n",
        "\n",
        "x = np.arange(-5.0, 5.0, 0.1)\n",
        "y = RELU(x)\n",
        "plt.title('RELU function')\n",
        "plt.plot(x, y)\n",
        "# plt.ylim(-0.1, 1.1)\n",
        "plt.show()"
      ],
      "execution_count": 7,
      "outputs": [
        {
          "output_type": "display_data",
          "data": {
            "image/png": "[encoded data removed]",
            "text/plain": [
              "<Figure size 432x288 with 1 Axes>"
            ]
          },
          "metadata": {
            "needs_background": "light"
          }
        }
      ]
    },
    {
      "cell_type": "markdown",
      "metadata": {
        "id": "llePyK-qIBWF"
      },
      "source": [
        "#### ReLU를 사용하는 이유\n",
        "* 최근에는 시그모이드 보다는 비선형 직선을 여러개 연결하는 ReLU를 더 많이 사용하는 추세\n",
        "  * $\\sigma$함수는 곡선함수라서 연산 비용(CPU, GPU 등의 연산)이 많이 들어간다.\n",
        "  * 따라서 필요에 따라 ReLU를 여러 개 붙여서 사용 하는 것이 도움이 될 때가 많다.\n",
        "  * 물론 데이터의 종류나 특징에 따라 성능은 다르다.\n",
        "* 이미지 처리에서 ReLU를 사용하는 이유\n",
        "  * 이미지는 0 ~ 255 까지의 정수로 이루어져 있다.\n",
        "  * 이미지도 신경망의 연산에 따라서 실수(float)로 값이 변경된다.($WX+b$)\n",
        "  * 연산에 의해 실수화 되다 보니 음수값이 등장하기 시작\n",
        "  * 이미지 시스템에서 음수는 사용하지 않는 데이터이기 때문에, 음수로 연산된 데이터를 0으로 만들어서 연산의 부담을 줄여준다.\n",
        "* 최근에는 Leakly ReLU도 자주 사용하는 추세\n",
        "  * 음수 데이터를 0으로 처리하는 것이 아닌, 0.01 같은 작은 값을 곱해서 음수 데이터를 약하게 처리하는 방식"
      ]
    },
    {
      "cell_type": "markdown",
      "metadata": {
        "id": "81vhIOxEBRsR"
      },
      "source": [
        "### 하이퍼볼릭 탄젠트(tanh)\n",
        "- **텍스트 처리**에 주로 사용\n",
        "- 시그모이드와 비슷하나 y가 -1 ~ 1사이의 값으로 출력\n",
        "  - 시그모이드는 **확률**(0 ~ 1)을 의미\n",
        "  - 하이퍼볼릭 탄젠트는 **방향**을 의미"
      ]
    },
    {
      "cell_type": "code",
      "metadata": {
        "colab": {
          "base_uri": "https://localhost:8080/",
          "height": 281
        },
        "id": "rsg0R-2fD2Mq",
        "outputId": "680283d2-0340-4a31-b964-831da0c25eb5"
      },
      "source": [
        "import numpy as np\n",
        "import matplotlib.pyplot as plt\n",
        "\n",
        "x = np.arange(-5.0, 5.0, 0.1)\n",
        "y = np.tanh(x)\n",
        "plt.title('tanh function')\n",
        "plt.plot(x, y)\n",
        "# plt.ylim(-0.1, 1.1)\n",
        "plt.show()"
      ],
      "execution_count": 8,
      "outputs": [
        {
          "output_type": "display_data",
          "data": {
            "image/png": "[encoded data removed]",
            "text/plain": [
              "<Figure size 432x288 with 1 Axes>"
            ]
          },
          "metadata": {
            "needs_background": "light"
          }
        }
      ]
    },
    {
      "cell_type": "code",
      "metadata": {
        "id": "tzwYzXceD5IM"
      },
      "source": [
        ""
      ],
      "execution_count": 8,
      "outputs": []
    }
  ]
}